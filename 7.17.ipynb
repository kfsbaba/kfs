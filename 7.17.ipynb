{
 "cells": [
  {
   "cell_type": "markdown",
   "metadata": {},
   "source": [
    "# 数学函数、字符串和对象\n",
    "## 本章介绍Python函数来执行常见的数学运算\n",
    "- 函数是完成一个特殊任务的一组语句，可以理解为一个函数相当于一个小功能，但是在开发中，需要注意一个函数的长度最好不要超过一屏\n",
    "- Python中的内置函数是不需要Import导入的\n",
    "<img src=\"../Photo/15.png\"></img>"
   ]
  },
  {
   "cell_type": "code",
   "execution_count": 5,
   "metadata": {},
   "outputs": [
    {
     "data": {
      "text/plain": [
       "16"
      ]
     },
     "execution_count": 5,
     "metadata": {},
     "output_type": "execute_result"
    }
   ],
   "source": [
    "pow(2,4,)"
   ]
  },
  {
   "cell_type": "code",
   "execution_count": 1,
   "metadata": {},
   "outputs": [
    {
     "data": {
      "text/plain": [
       "0"
      ]
     },
     "execution_count": 1,
     "metadata": {},
     "output_type": "execute_result"
    }
   ],
   "source": [
    "pow(2, 4, 2)  # 幂指数运算，第三个参数是取模运算"
   ]
  },
  {
   "cell_type": "markdown",
   "metadata": {},
   "source": [
    "## 尝试练习Python内置函数"
   ]
  },
  {
   "cell_type": "code",
   "execution_count": 6,
   "metadata": {},
   "outputs": [
    {
     "name": "stdout",
     "output_type": "stream",
     "text": [
      "0.28026723861694336\n"
     ]
    }
   ],
   "source": [
    "import time\n",
    "start=time.time()\n",
    "num=0\n",
    "for i in range(1000000):\n",
    "    num +=i\n",
    "    end = time.time()\n",
    "print(end - start)"
   ]
  },
  {
   "cell_type": "markdown",
   "metadata": {},
   "source": [
    "## Python中的math模块提供了许多数学函数\n",
    "<img src=\"../Photo/16.png\"></img>\n",
    "<img src=\"../Photo/17.png\"></img>\n"
   ]
  },
  {
   "cell_type": "code",
   "execution_count": null,
   "metadata": {},
   "outputs": [],
   "source": [
    "L = -[yloga+(1-y)log(1-a)]"
   ]
  },
  {
   "cell_type": "code",
   "execution_count": 24,
   "metadata": {},
   "outputs": [
    {
     "name": "stdout",
     "output_type": "stream",
     "text": [
      "1\n"
     ]
    }
   ],
   "source": [
    "生成随机数\n",
    "import random\n",
    "a=int((random.randint(1,3)))\n",
    "print(a)"
   ]
  },
  {
   "cell_type": "markdown",
   "metadata": {},
   "source": [
    "## 两个数学常量PI和e，可以通过使用math.pi 和math.e调用"
   ]
  },
  {
   "cell_type": "code",
   "execution_count": null,
   "metadata": {},
   "outputs": [],
   "source": [
    "math.pi=π\n",
    "math.e=自然增长数"
   ]
  },
  {
   "cell_type": "markdown",
   "metadata": {},
   "source": [
    "## EP:\n",
    "- 通过math库，写一个程序，使得用户输入三个顶点(x,y)返回三个角度\n",
    "- 注意：Python计算角度为弧度制，需要将其转换为角度\n",
    "<img src=\"../Photo/18.png\">"
   ]
  },
  {
   "cell_type": "code",
   "execution_count": 12,
   "metadata": {},
   "outputs": [
    {
     "ename": "TypeError",
     "evalue": "eval expected at least 1 arguments, got 0",
     "output_type": "error",
     "traceback": [
      "\u001b[1;31m---------------------------------------------------------------------------\u001b[0m",
      "\u001b[1;31mTypeError\u001b[0m                                 Traceback (most recent call last)",
      "\u001b[1;32m<ipython-input-12-1238a6898d9c>\u001b[0m in \u001b[0;36m<module>\u001b[1;34m()\u001b[0m\n\u001b[0;32m      1\u001b[0m \u001b[1;32mimport\u001b[0m \u001b[0mmath\u001b[0m\u001b[1;33m\u001b[0m\u001b[0m\n\u001b[1;32m----> 2\u001b[1;33m \u001b[0ma\u001b[0m\u001b[1;33m,\u001b[0m\u001b[0mb\u001b[0m\u001b[1;33m,\u001b[0m\u001b[0mc\u001b[0m\u001b[1;33m,\u001b[0m\u001b[0md\u001b[0m\u001b[1;33m=\u001b[0m\u001b[0meval\u001b[0m\u001b[1;33m(\u001b[0m\u001b[1;33m)\u001b[0m\u001b[1;33m\u001b[0m\u001b[0m\n\u001b[0m",
      "\u001b[1;31mTypeError\u001b[0m: eval expected at least 1 arguments, got 0"
     ]
    }
   ],
   "source": [
    "import math\n",
    "a,b,c,d=eval()"
   ]
  },
  {
   "cell_type": "markdown",
   "metadata": {},
   "source": [
    "## 字符串和字符\n",
    "- 在Python中，字符串必须是在单引号或者双引号内，在多段换行的字符串中可以使用“”“\n",
    "- 在使用”“”时，给予其变量则变为字符串，否则当多行注释使用"
   ]
  },
  {
   "cell_type": "code",
   "execution_count": 35,
   "metadata": {},
   "outputs": [
    {
     "name": "stdout",
     "output_type": "stream",
     "text": [
      "他说“王八蛋”负心汉白眼狼铁公鸡"
     ]
    }
   ],
   "source": [
    "c='''\n",
    "他说“王八蛋”\n",
    "负心汉\n",
    "白眼狼\n",
    "铁公鸡\n",
    "'''\n",
    "num=0\n",
    "for i in c:\n",
    "    if i == '\\n':\n",
    "        continue\n",
    "    else:\n",
    "        num +=1\n",
    "        print(i,end='')"
   ]
  },
  {
   "cell_type": "code",
   "execution_count": 1,
   "metadata": {},
   "outputs": [
    {
     "name": "stdout",
     "output_type": "stream",
     "text": [
      "4\n",
      "6\n",
      "5\n",
      "1\n",
      "2\n",
      "3\n",
      "1\n",
      "3\n"
     ]
    }
   ],
   "source": [
    "a='46512313'\n",
    "for i in a:\n",
    "    print(i)"
   ]
  },
  {
   "cell_type": "markdown",
   "metadata": {},
   "source": [
    "## ASCII码与Unicode码\n",
    "- <img src=\"../Photo/19.png\"></img>\n",
    "- <img src=\"../Photo/20.png\"></img>\n",
    "- <img src=\"../Photo/21.png\"></img>"
   ]
  },
  {
   "cell_type": "markdown",
   "metadata": {},
   "source": [
    "## 函数ord、chr\n",
    "- ord 返回ASCII码值\n",
    "- chr 返回字符"
   ]
  },
  {
   "cell_type": "code",
   "execution_count": 17,
   "metadata": {},
   "outputs": [
    {
     "name": "stdout",
     "output_type": "stream",
     "text": [
      "<class 'int'>\n",
      "k\n",
      "<class 'int'>\n",
      "p\n",
      "<class 'int'>\n",
      "l\n",
      "<class 'int'>\n",
      "f\n",
      "<class 'int'>\n",
      "s\n"
     ]
    }
   ],
   "source": [
    "joker = 'joker'\n",
    "for i in joker:\n",
    " print(type(ord(i)))\n",
    " print(chr(ord(i)+1))"
   ]
  },
  {
   "cell_type": "code",
   "execution_count": null,
   "metadata": {},
   "outputs": [],
   "source": [
    "joker = 'A'\n",
    "ord(joker)\n",
    "print(ord('q'), ord('Z'))"
   ]
  },
  {
   "cell_type": "code",
   "execution_count": null,
   "metadata": {},
   "outputs": [],
   "source": [
    "print(chr(65))\n",
    "print(chr(90))"
   ]
  },
  {
   "cell_type": "code",
   "execution_count": 2,
   "metadata": {},
   "outputs": [
    {
     "data": {
      "text/plain": [
       "(array([0], dtype=int64),)"
      ]
     },
     "execution_count": 2,
     "metadata": {},
     "output_type": "execute_result"
    }
   ],
   "source": [
    "import numpy as np\n",
    "np.nonzero(1)"
   ]
  },
  {
   "cell_type": "markdown",
   "metadata": {},
   "source": [
    "## EP:\n",
    "- 利用ord与chr进行简单邮箱加密"
   ]
  },
  {
   "cell_type": "code",
   "execution_count": 34,
   "metadata": {},
   "outputs": [
    {
     "name": "stdout",
     "output_type": "stream",
     "text": [
      "885963624Arr/dpn"
     ]
    }
   ],
   "source": [
    "a='774852513@qq.com'\n",
    "for i in a:\n",
    " print((chr(ord(i)+1)),end='')"
   ]
  },
  {
   "cell_type": "code",
   "execution_count": null,
   "metadata": {},
   "outputs": [],
   "source": [
    "email = 'maomaochong@163.com'  # 邮箱加密过程\n",
    "j = 0\n",
    "for i in email:\n",
    "    text = ord(i) + 1\n",
    "    re_text = chr(text)\n",
    "    print(re_text)"
   ]
  },
  {
   "cell_type": "code",
   "execution_count": null,
   "metadata": {},
   "outputs": [],
   "source": [
    "import hashlib\n",
    "str1 = 'this is a test.'\n",
    "h1 = hashlib.md5()\n",
    "h1.update(str1.encode(encoding = 'utf-8'))\n",
    "print('MD5加密之后为：', h1.hexdigest())"
   ]
  },
  {
   "cell_type": "markdown",
   "metadata": {},
   "source": [
    "## 转义序列 \\\n",
    "- a = \"He said,\"Johon's program is easy to read\"\"\n",
    "- 转掉原来的意思\n",
    "- 一般情况下，只有当语句与默认语句相撞的时候，就需要转义"
   ]
  },
  {
   "cell_type": "code",
   "execution_count": 35,
   "metadata": {},
   "outputs": [
    {
     "name": "stdout",
     "output_type": "stream",
     "text": [
      "He said,\"Johon's program is easy to read\"\n"
     ]
    }
   ],
   "source": [
    "a = \"He said,\\\"Johon's program is easy to read\\\"\"  #z正则表达式中常用转义字符\\\n",
    "print(a)"
   ]
  },
  {
   "cell_type": "markdown",
   "metadata": {},
   "source": [
    "## 高级print\n",
    "- 参数 end： 以什么方式结束打印\n",
    "- 默认换行打印"
   ]
  },
  {
   "cell_type": "code",
   "execution_count": null,
   "metadata": {},
   "outputs": [],
   "source": [
    "email = 'maomaochong@163.com'  # 邮箱加密过程\n",
    "j = 0\n",
    "for i in email:\n",
    "    text = ord(i) + 1\n",
    "    re_text = chr(text)\n",
    "    print(re_text, end = '')"
   ]
  },
  {
   "cell_type": "markdown",
   "metadata": {},
   "source": [
    "## 函数str\n",
    "- 将类型强制转换成字符串类型\n",
    "- 其他一些以后会学到(list,set,tuple...)"
   ]
  },
  {
   "cell_type": "code",
   "execution_count": null,
   "metadata": {},
   "outputs": [],
   "source": [
    "a = 100.12\n",
    "type(str(a))"
   ]
  },
  {
   "cell_type": "markdown",
   "metadata": {},
   "source": [
    "## 字符串连接操作\n",
    "- 直接使用 “+” \n",
    "- join() 函数 "
   ]
  },
  {
   "cell_type": "code",
   "execution_count": null,
   "metadata": {},
   "outputs": [],
   "source": [
    "a1 = 'www.baidu.com/image.page='\n",
    "a2 = '1'\n",
    "for i in range(0, 10):\n",
    "    a2 = a1 + str(i)\n",
    "    print(a2)"
   ]
  },
  {
   "cell_type": "code",
   "execution_count": 37,
   "metadata": {},
   "outputs": [
    {
     "name": "stdout",
     "output_type": "stream",
     "text": [
      "Wall time: 0 ns\n"
     ]
    },
    {
     "data": {
      "text/plain": [
       "'a^b^c^d'"
      ]
     },
     "execution_count": 37,
     "metadata": {},
     "output_type": "execute_result"
    }
   ],
   "source": [
    "joint = '^'\n",
    "%time  joint.join(('a', 'b', 'c', 'd'))  # join的参数需要在一个元组之中"
   ]
  },
  {
   "cell_type": "code",
   "execution_count": null,
   "metadata": {},
   "outputs": [],
   "source": [
    "%time  '*'.join(('a', 'b', 'c', 'd'))  # join的参数需要在一个元组之中"
   ]
  },
  {
   "cell_type": "code",
   "execution_count": null,
   "metadata": {},
   "outputs": [],
   "source": [
    "%time 'A' + 'B' + 'C'"
   ]
  },
  {
   "cell_type": "markdown",
   "metadata": {},
   "source": [
    "## EP：\n",
    "- 将 “Welcome” “to” \"Python\" 拼接\n",
    "- 将int型 100 与 “joker is a bad man” 拼接\n",
    "- 从控制台读取字符串\n",
    "> 输入一个名字返回夸奖此人是一个帅哥"
   ]
  },
  {
   "cell_type": "code",
   "execution_count": 39,
   "metadata": {},
   "outputs": [
    {
     "data": {
      "text/plain": [
       "'welcometopython'"
      ]
     },
     "execution_count": 39,
     "metadata": {},
     "output_type": "execute_result"
    }
   ],
   "source": [
    "''.join(('welcome','to','python'))"
   ]
  },
  {
   "cell_type": "code",
   "execution_count": 42,
   "metadata": {},
   "outputs": [
    {
     "data": {
      "text/plain": [
       "'joker is abad man100'"
      ]
     },
     "execution_count": 42,
     "metadata": {},
     "output_type": "execute_result"
    }
   ],
   "source": [
    "''.join(('joker is abad man',str(100)))"
   ]
  },
  {
   "cell_type": "code",
   "execution_count": 2,
   "metadata": {},
   "outputs": [
    {
     "name": "stdout",
     "output_type": "stream",
     "text": [
      "输入名字老孔\n",
      "老孔帅哥\n"
     ]
    }
   ],
   "source": [
    "a=str(input('输入名字'))\n",
    "b='帅哥'\n",
    "c=''.join((a,b))\n",
    "print(c)"
   ]
  },
  {
   "cell_type": "code",
   "execution_count": null,
   "metadata": {},
   "outputs": [],
   "source": [
    "text1 = ' '.join(('Welcome', 'to', 'Python'))\n",
    "i = 100\n",
    "text2 = str(i)\n",
    "text3 = ' '.join((text2, 'Joker is a bad man'))\n",
    "print(text1, '\\n', text2 ,'\\n', text3)"
   ]
  },
  {
   "cell_type": "code",
   "execution_count": null,
   "metadata": {},
   "outputs": [],
   "source": [
    "name = input('输入名字：')\n",
    "text = ' '.join((name, 'is a good boy.'))\n",
    "print(text)"
   ]
  },
  {
   "cell_type": "markdown",
   "metadata": {},
   "source": [
    "## 实例研究：最小数量硬币\n",
    "- 开发一个程序，让用户输入总金额，这是一个用美元和美分表示的浮点值，返回一个由美元、两角五分的硬币、一角的硬币、五分硬币、以及美分个数\n",
    "<img src=\"../Photo/22.png\"></img>"
   ]
  },
  {
   "cell_type": "code",
   "execution_count": null,
   "metadata": {},
   "outputs": [],
   "source": [
    "amount = eval(input('Enter an amount, for example 11.56: '))\n",
    "fenshuAmount = int(amount * 100)\n",
    "dollorAmount = fenshuAmount // 100\n",
    "remainDollorAmount = fenshuAmount % 100\n",
    "jiaoAmount = remainDollorAmount // 25\n",
    "remainJiaoAmount = remainDollorAmount % 25\n",
    "fenAmount = remainJiaoAmount // 10\n",
    "remainFenAmount = remainJiaoAmount % 10\n",
    "fenAmount2 = remainFenAmount // 5\n",
    "remainFenAmount2 = remainFenAmount % 5\n",
    "fenFinalAmount = remainFenAmount2 \n",
    "print('美元个数为',dollorAmount,'\\n', '两角五分硬币个数为',\n",
    "      jiaoAmount, '\\n','一角个数为', fenAmount, '\\n','五美分个数为', fenAmount2,'\\n', '一美分个数为',fenFinalAmount)"
   ]
  },
  {
   "cell_type": "code",
   "execution_count": null,
   "metadata": {},
   "outputs": [],
   "source": [
    "amount = eval(input('Ennter an amount,for example 11.56:'))\n",
    "remainingAmount = int(amount * 100)\n",
    "print(remainingAmount)\n",
    "numberOfOneDollars = remainingAmount //100\n",
    "remainingAmount = remainingAmount % 100\n",
    "numberOfQuarters = remainingAmount // 25\n",
    "remainingAmount = remainingAmount % 25\n",
    "numberOfDimes = remainingAmount // 10\n",
    "remainingAmount = remainingAmount % 10\n",
    "numberOfNickls = remainingAmount // 5\n",
    "remainingAmount = remainingAmount % 5\n",
    "numberOfPenies = remainingAmount\n",
    "print(numberOfOneDollars,numberOfQuarters,numberOfDimes,numberOfNickls,numberOfPenies)"
   ]
  },
  {
   "cell_type": "markdown",
   "metadata": {},
   "source": [
    "- Python弱项，对于浮点型的处理并不是很好，但是处理数据的时候使用的是Numpy类型\n",
    "<img src=\"../Photo/23.png\"></img>"
   ]
  },
  {
   "cell_type": "code",
   "execution_count": null,
   "metadata": {},
   "outputs": [],
   "source": [
    "remainingAmount = eval(input('Ennter an amount,for example 11.56:'))\n",
    "print(remainingAmount)\n",
    "numberOfOneDollars = remainingAmount //100\n",
    "remainingAmount = remainingAmount % 100\n",
    "numberOfQuarters = remainingAmount // 25\n",
    "remainingAmount = remainingAmount % 25\n",
    "numberOfDimes = remainingAmount // 10\n",
    "remainingAmount = remainingAmount % 10\n",
    "numberOfNickls = remainingAmount // 5\n",
    "remainingAmount = remainingAmount % 5\n",
    "numberOfPenies = remainingAmount\n",
    "print(numberOfOneDollars,numberOfQuarters,numberOfDimes,numberOfNickls,numberOfPenies)"
   ]
  },
  {
   "cell_type": "markdown",
   "metadata": {},
   "source": [
    "## id与type\n",
    "- id 查看内存地址，在判断语句中将会使用\n",
    "- type 查看元素类型"
   ]
  },
  {
   "cell_type": "code",
   "execution_count": null,
   "metadata": {},
   "outputs": [],
   "source": [
    "a = 100\n",
    "id(a)"
   ]
  },
  {
   "cell_type": "code",
   "execution_count": null,
   "metadata": {
    "scrolled": true
   },
   "outputs": [],
   "source": [
    "id(True)"
   ]
  },
  {
   "cell_type": "code",
   "execution_count": null,
   "metadata": {},
   "outputs": [],
   "source": [
    "100 == 100"
   ]
  },
  {
   "cell_type": "code",
   "execution_count": null,
   "metadata": {},
   "outputs": [],
   "source": [
    "112345678800000000 is '112345678800000000'"
   ]
  },
  {
   "cell_type": "code",
   "execution_count": null,
   "metadata": {},
   "outputs": [],
   "source": [
    "112345678800000000 is 112345678800000000"
   ]
  },
  {
   "cell_type": "code",
   "execution_count": null,
   "metadata": {},
   "outputs": [],
   "source": [
    "a = True\n",
    "b = False\n",
    "print(id(a), id(b))\n",
    "a is b\n"
   ]
  },
  {
   "cell_type": "markdown",
   "metadata": {},
   "source": [
    "## 其他格式化语句见书"
   ]
  },
  {
   "cell_type": "markdown",
   "metadata": {},
   "source": [
    "# Homework\n",
    "- 1\n",
    "<img src=\"../Photo/24.png\"><img>\n",
    "<img src=\"../Photo/25.png\"><img>"
   ]
  },
  {
   "cell_type": "code",
   "execution_count": 4,
   "metadata": {},
   "outputs": [
    {
     "name": "stdout",
     "output_type": "stream",
     "text": [
      "Enter the length from the center to a vertex:5.5\n",
      "71.92364904482099\n"
     ]
    },
    {
     "data": {
      "text/plain": [
       "71.92"
      ]
     },
     "execution_count": 4,
     "metadata": {},
     "output_type": "execute_result"
    }
   ],
   "source": [
    "import math\n",
    "r=eval(input('Enter the length from the center to a vertex:'))\n",
    "s=2*r*math.sin(math.pi/5)\n",
    "a=(5*s**2)/(4*math.tan(math.pi/5))\n",
    "print(a)\n",
    "round(a,2)"
   ]
  },
  {
   "cell_type": "code",
   "execution_count": 1,
   "metadata": {},
   "outputs": [
    {
     "name": "stdout",
     "output_type": "stream",
     "text": [
      "输入五边形顶点到中心的距离：5.5\n",
      "计算结果：边长为 6.4656 的五边形的面积为 71.9236\n"
     ]
    }
   ],
   "source": [
    "import math \n",
    "radius = eval(input('输入五边形顶点到中心的距离：'))\n",
    "s = 2 * radius * math.sin(math.pi / 5)\n",
    "area = 5 * s * s / (4 * math.tan(math.pi / 5))\n",
    "print('计算结果：边长为 %.4f 的五边形的面积为 %.4f' %(s, area))"
   ]
  },
  {
   "cell_type": "markdown",
   "metadata": {},
   "source": [
    "- 2\n",
    "<img src=\"../Photo/26.png\"><img>"
   ]
  },
  {
   "cell_type": "code",
   "execution_count": null,
   "metadata": {},
   "outputs": [],
   "source": [
    "import math\n",
    "x1,y1=eval(input('Enter porint 1 (latitude and longittude) in degrees:'))\n",
    "x2,y2=eval(input('Enter porint 2 (latitude and longittude) in degrees:'))\n",
    "r=6371.01\n",
    "'''x1 = math.radians(x1)\n",
    "x2 = math.radians(x2)\n",
    "y1 = math.radians(y1)\n",
    "y2 = math.radians(y2)'''\n",
    "d=math.radians(r*math.acos((math.sin(x1)*math.sin(x2))+math.cos(x1)*math.cos(x2)*math.cos(y1-y2)))\n",
    "print(d)"
   ]
  },
  {
   "cell_type": "code",
   "execution_count": 2,
   "metadata": {},
   "outputs": [
    {
     "name": "stdout",
     "output_type": "stream",
     "text": [
      "输入第一个点的经度和纬度：39.55, -116.25\n",
      "输入第二个点的经度和纬度：41.5, 87.37\n",
      "地球上两个点之间的距离为： 10691.79183231593 km\n"
     ]
    }
   ],
   "source": [
    "import math\n",
    "x1, y1 = eval(input('输入第一个点的经度和纬度：'))\n",
    "x2, y2 = eval(input('输入第二个点的经度和纬度：'))\n",
    "x1 = math.radians(x1)\n",
    "x2 = math.radians(x2)\n",
    "y1 = math.radians(y1)\n",
    "y2 = math.radians(y2)\n",
    "radius = 6371.01\n",
    "#print(x1, y1, x2, y2)\n",
    "d = radius * math.acos(math.sin(x1) * math.sin(x2) + math.cos(x1) * math.cos(x2) * math.cos(y1 - y2))\n",
    "print('地球上两个点之间的距离为：', d, 'km')"
   ]
  },
  {
   "cell_type": "markdown",
   "metadata": {},
   "source": [
    "- 3\n",
    "<img src=\"../Photo/27.png\"><img>"
   ]
  },
  {
   "cell_type": "code",
   "execution_count": 23,
   "metadata": {},
   "outputs": [
    {
     "name": "stdout",
     "output_type": "stream",
     "text": [
      "Enter the side:5.5\n",
      "52.044441367816255\n"
     ]
    }
   ],
   "source": [
    "import math\n",
    "s=eval(input('Enter the side:'))\n",
    "A=(5*s**2)/(4*math.tan(math.pi/5))\n",
    "print(A)"
   ]
  },
  {
   "cell_type": "code",
   "execution_count": 3,
   "metadata": {},
   "outputs": [
    {
     "name": "stdout",
     "output_type": "stream",
     "text": [
      "输入五边形的边长：5.5\n",
      "计算结果：边长为5.5000的五边形的面积为52.0444\n"
     ]
    }
   ],
   "source": [
    "import math \n",
    "s = eval(input('输入五边形的边长：'))\n",
    "area = 5 * s * s / (4 * math.tan(math.pi / 5))\n",
    "print('计算结果：边长为%.4f的五边形的面积为%.4f' %(s, area))"
   ]
  },
  {
   "cell_type": "markdown",
   "metadata": {},
   "source": [
    "- 4\n",
    "<img src=\"../Photo/28.png\"><img>"
   ]
  },
  {
   "cell_type": "code",
   "execution_count": 25,
   "metadata": {},
   "outputs": [
    {
     "name": "stdout",
     "output_type": "stream",
     "text": [
      "Enter the of s and n:5,6.5\n",
      "72.69017017488386\n"
     ]
    }
   ],
   "source": [
    "import math\n",
    "s,n=eval(input('Enter the of s and n:'))\n",
    "A=(s*n**2)/(4*math.tan(math.pi/s))\n",
    "print(A)"
   ]
  },
  {
   "cell_type": "code",
   "execution_count": 4,
   "metadata": {},
   "outputs": [
    {
     "name": "stdout",
     "output_type": "stream",
     "text": [
      "输入正多边形的边数：5\n",
      "输入正多边形的边长：6.5\n",
      "计算结果：边长为6.5000的5边形的面积为72.6902\n"
     ]
    }
   ],
   "source": [
    "import math \n",
    "num = eval(input('输入正多边形的边数：'))\n",
    "s = eval(input('输入正多边形的边长：'))\n",
    "area = num * s * s / (4 * math.tan(math.pi / num))\n",
    "print('计算结果：边长为%.4f的%d边形的面积为%.4f' %(s, num,area))"
   ]
  },
  {
   "cell_type": "markdown",
   "metadata": {},
   "source": [
    "- 5\n",
    "<img src=\"../Photo/29.png\"><img>\n",
    "<img src=\"../Photo/30.png\"><img>"
   ]
  },
  {
   "cell_type": "code",
   "execution_count": 2,
   "metadata": {},
   "outputs": [
    {
     "name": "stdout",
     "output_type": "stream",
     "text": [
      "Enter an ASCII code:69\n",
      "E\n"
     ]
    }
   ],
   "source": [
    "a=eval(input('Enter an ASCII code:'))\n",
    "print(chr(a))"
   ]
  },
  {
   "cell_type": "code",
   "execution_count": 5,
   "metadata": {},
   "outputs": [
    {
     "name": "stdout",
     "output_type": "stream",
     "text": [
      "输入一个介于0到127之间的整数ASCII码值：69\n",
      "ASCII码值为 69 的字母为 E\n"
     ]
    }
   ],
   "source": [
    "num = eval(input('输入一个介于0到127之间的整数ASCII码值：'))\n",
    "alp = chr(num)\n",
    "print('ASCII码值为', num, '的字母为',alp)"
   ]
  },
  {
   "cell_type": "markdown",
   "metadata": {},
   "source": [
    "- 6\n",
    "<img src=\"../Photo/31.png\"><img>"
   ]
  },
  {
   "cell_type": "code",
   "execution_count": 7,
   "metadata": {},
   "outputs": [
    {
     "name": "stdout",
     "output_type": "stream",
     "text": [
      "Enter empoyee's name:kbaba\n",
      "Enter number of hour worked in week:10\n",
      "money:9.75\n",
      "Enter federal tax withholding rate:0.2\n",
      "Enter state tax withholding rate:0.09\n",
      "Empllyee name: kbaba\n",
      "Hours worked: 10\n",
      "Pay rate: 19.5\n",
      "Gross pay: 8.775\n",
      "Deductions:\n",
      "Federal withholding (20.0%): 78.0\n",
      "State withholding (9.0%): 88.725\n",
      "Total deduction: 28.275\n",
      "Net pay 69.225\n"
     ]
    }
   ],
   "source": [
    "name=(input('Enter empoyee\\'s name:'))\n",
    "week=eval(input('Enter number of hour worked in week:'))\n",
    "money=eval(input('money:'))\n",
    "federal=eval(input('Enter federal tax withholding rate:'))\n",
    "state=eval(input('Enter state tax withholding rate:'))\n",
    "a=week*money\n",
    "b=a*federal\n",
    "c=a*state\n",
    "d=a-b\n",
    "e=a-c\n",
    "f=a-b-c\n",
    "g=b+c\n",
    "print('Empllyee name:',name)\n",
    "print('Hours worked:',week)\n",
    "print('Pay rate:',b)\n",
    "print('Gross pay:',c)\n",
    "print('Deductions:')\n",
    "print('Federal withholding (20.0%):',d)\n",
    "print('State withholding (9.0%):',e)\n",
    "print('Total deduction:',g)\n",
    "print('Net pay',f)"
   ]
  },
  {
   "cell_type": "code",
   "execution_count": 6,
   "metadata": {},
   "outputs": [
    {
     "name": "stdout",
     "output_type": "stream",
     "text": [
      "输入雇员的姓名：Smith\n",
      "输入雇员一周工作的时间：10\n",
      "输入雇员每小时报酬：9.75\n",
      "输入联邦扣税率：0.2\n",
      "输入州扣税率：0.09\n",
      "雇员姓名： Smith \n",
      " 一周工作时间： 10 \n",
      " 每小时报酬:$ 9.75 \n",
      " 总收入:$ 97.5 \n",
      " 扣税: \n",
      " 联邦扣税额:$ 19.5 \n",
      " 州扣税额:$ 8.775 \n",
      " 总扣税额:$ 28.275 \n",
      " 剩余工资:$ 69.225\n"
     ]
    }
   ],
   "source": [
    "name = input('输入雇员的姓名：')\n",
    "hourTime = eval(input('输入雇员一周工作的时间：'))\n",
    "payRate = eval(input('输入雇员每小时报酬：'))\n",
    "federalTax = eval(input('输入联邦扣税率：'))\n",
    "stateTax= eval(input('输入州扣税率：'))\n",
    "\n",
    "grossPay = hourTime * payRate\n",
    "federalWithholding = grossPay * federalTax\n",
    "stateWithholding = grossPay * stateTax\n",
    "totalDeduction = federalWithholding + stateWithholding\n",
    "netPay = grossPay - totalDeduction\n",
    "print('雇员姓名：',name, '\\n','一周工作时间：', hourTime, '\\n', '每小时报酬:$', payRate,'\\n',\n",
    "     '总收入:$', grossPay,'\\n', '扣税:','\\n', '联邦扣税额:$',federalWithholding,'\\n',\n",
    "      '州扣税额:$',stateWithholding,'\\n', '总扣税额:$',totalDeduction ,'\\n',\n",
    "     '剩余工资:$', netPay)\n"
   ]
  },
  {
   "cell_type": "markdown",
   "metadata": {},
   "source": [
    "- 7\n",
    "<img src=\"../Photo/32.png\"><img>"
   ]
  },
  {
   "cell_type": "code",
   "execution_count": 58,
   "metadata": {},
   "outputs": [
    {
     "ename": "IndentationError",
     "evalue": "unexpected indent (<ipython-input-58-20618e167523>, line 3)",
     "output_type": "error",
     "traceback": [
      "\u001b[1;36m  File \u001b[1;32m\"<ipython-input-58-20618e167523>\"\u001b[1;36m, line \u001b[1;32m3\u001b[0m\n\u001b[1;33m    print('The rrversed number is',b)\u001b[0m\n\u001b[1;37m    ^\u001b[0m\n\u001b[1;31mIndentationError\u001b[0m\u001b[1;31m:\u001b[0m unexpected indent\n"
     ]
    }
   ],
   "source": [
    "a=eval(input('Enter an integer:'))\n",
    "b=(a%10)+((a//10)%10)+((a//100)%10)+((a//1000)%10)\n",
    "    print('The rrversed number is',b)"
   ]
  },
  {
   "cell_type": "code",
   "execution_count": 7,
   "metadata": {},
   "outputs": [
    {
     "name": "stdout",
     "output_type": "stream",
     "text": [
      "输入一个四位整数：3125\n",
      "四位整数 3125 的反向数字为 5213\n"
     ]
    }
   ],
   "source": [
    "number = input('输入一个四位整数：')\n",
    "reverNumber = ''\n",
    "for i in number:\n",
    "    reverNumber = i + reverNumber\n",
    "print('四位整数',number, '的反向数字为',reverNumber)"
   ]
  },
  {
   "cell_type": "markdown",
   "metadata": {},
   "source": [
    "- 8 进阶：\n",
    "> 加密一串文本，并将解密后的文件写入本地保存"
   ]
  },
  {
   "cell_type": "code",
   "execution_count": 52,
   "metadata": {},
   "outputs": [
    {
     "name": "stdout",
     "output_type": "stream",
     "text": [
      "77485253@qq.com"
     ]
    }
   ],
   "source": [
    "a='77485253@qq.com'\n",
    "for i in a:\n",
    "    b=chr(ord(i)+1)\n",
    "    c=chr(ord(b)-1)\n",
    "    print(c,end='')"
   ]
  },
  {
   "cell_type": "code",
   "execution_count": 11,
   "metadata": {},
   "outputs": [
    {
     "name": "stdout",
     "output_type": "stream",
     "text": [
      "加密之后的信息为： nbpnbpdipohA274/dpn\n",
      "解密之后的信息为： maomaochong@163.com\n"
     ]
    }
   ],
   "source": [
    "email = 'maomaochong@163.com'  # 邮箱加密过程\n",
    "\n",
    "re_text = ''\n",
    "for i in email:\n",
    "    text = ord(i) + 1\n",
    "    re_text = ''.join((re_text, chr(text)))\n",
    "print('加密之后的信息为：', re_text)\n",
    "\n",
    "reves_text = ''\n",
    "for i in re_text:\n",
    "    text = ord(i) - 1\n",
    "    reves_text = ''.join((reves_text, chr(text)))\n",
    "print('解密之后的信息为：', reves_text)\n",
    "\n",
    "outputfile = open(\"day02.txt\",'w')\n",
    "outputfile.write(reves_text)\n",
    "outputfile.close()"
   ]
  }
 ],
 "metadata": {
  "kernelspec": {
   "display_name": "Python 3",
   "language": "python",
   "name": "python3"
  },
  "language_info": {
   "codemirror_mode": {
    "name": "ipython",
    "version": 3
   },
   "file_extension": ".py",
   "mimetype": "text/x-python",
   "name": "python",
   "nbconvert_exporter": "python",
   "pygments_lexer": "ipython3",
   "version": "3.6.5"
  }
 },
 "nbformat": 4,
 "nbformat_minor": 2
}
